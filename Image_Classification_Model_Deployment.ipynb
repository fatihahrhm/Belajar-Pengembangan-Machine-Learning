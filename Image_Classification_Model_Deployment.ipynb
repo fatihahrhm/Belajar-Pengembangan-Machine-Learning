{
  "nbformat": 4,
  "nbformat_minor": 0,
  "metadata": {
    "colab": {
      "name": "Fatihah Rahmadayana_Image Classification Model Deployment.ipynb",
      "provenance": []
    },
    "kernelspec": {
      "name": "python3",
      "display_name": "Python 3"
    },
    "language_info": {
      "name": "python"
    }
  },
  "cells": [
    {
      "cell_type": "markdown",
      "metadata": {
        "id": "_2S3pu8mAZje"
      },
      "source": [
        "<h1> Belajar Pengembangan Machine Learning </h1>\n",
        "<h3> Proyek Akhir : Image Classification Model Deployment </h3>\n",
        "\n",
        "Nama : Fatihah Rahmadayana\n",
        "\n",
        "Dataset Source : https://www.kaggle.com/alxmamaev/flowers-recognition"
      ]
    },
    {
      "cell_type": "code",
      "metadata": {
        "colab": {
          "base_uri": "https://localhost:8080/"
        },
        "id": "kihAzbl1mJJ6",
        "outputId": "4892c5b8-878c-4827-8186-128830fb14df"
      },
      "source": [
        "import numpy as np\n",
        "import tensorflow as tf\n",
        "from tensorflow import keras\n",
        "import zipfile\n",
        "import os\n",
        "import seaborn as sns\n",
        "import matplotlib.pyplot as plt\n",
        "import random\n",
        "from shutil import copyfile\n",
        "from tensorflow.keras.optimizers import Adam\n",
        "from tensorflow.keras.preprocessing.image import ImageDataGenerator\n",
        "\n",
        "from google.colab import drive\n",
        "drive.mount('/content/drive/')"
      ],
      "execution_count": 1,
      "outputs": [
        {
          "output_type": "stream",
          "text": [
            "Drive already mounted at /content/drive/; to attempt to forcibly remount, call drive.mount(\"/content/drive/\", force_remount=True).\n"
          ],
          "name": "stdout"
        }
      ]
    },
    {
      "cell_type": "code",
      "metadata": {
        "id": "iuHa2ujSmKos"
      },
      "source": [
        "dataset_path = \"/content/drive/My Drive/data/flowers.zip\"\n",
        "zip_file = zipfile.ZipFile(dataset_path, 'r')\n",
        "zip_file.extractall(\"./tmp/\")\n",
        "zip_file.close()"
      ],
      "execution_count": 2,
      "outputs": []
    },
    {
      "cell_type": "code",
      "metadata": {
        "colab": {
          "base_uri": "https://localhost:8080/",
          "height": 282
        },
        "id": "O-BUk0kypBGm",
        "outputId": "e435416e-8deb-4334-bb95-14a8ba3d666a"
      },
      "source": [
        "length = [len(os.listdir('./tmp/flowers/daisy')),\n",
        "         len(os.listdir('./tmp/flowers/dandelion')),                  \n",
        "         len(os.listdir('./tmp/flowers/tulip'))]\n",
        "\n",
        "fig = plt.figure(figsize=(8,4))\n",
        "plt.bar(['Daisy','Dandelion','Tulip'], length, color=['#99c1de','#fad2e1','#e7cee3'])\n",
        "plt.title('Value Count Each Flowers', size=14)\n",
        "plt.show()"
      ],
      "execution_count": 3,
      "outputs": [
        {
          "output_type": "display_data",
          "data": {
            "image/png": "[encoded data removed]",
            "text/plain": [
              "<Figure size 576x288 with 1 Axes>"
            ]
          },
          "metadata": {
            "tags": [],
            "needs_background": "light"
          }
        }
      ]
    },
    {
      "cell_type": "code",
      "metadata": {
        "id": "9h2oFPQbqr9h"
      },
      "source": [
        "os.mkdir('./tmp/training/')\n",
        "os.mkdir('./tmp/testing/')\n",
        "\n",
        "os.mkdir('./tmp/training/daisy/')\n",
        "os.mkdir('./tmp/training/dandelion/')\n",
        "os.mkdir('./tmp/training/tulip/')\n",
        "\n",
        "os.mkdir('./tmp/testing/daisy/')\n",
        "os.mkdir('./tmp/testing/dandelion/')\n",
        "os.mkdir('./tmp/testing/tulip/')\n",
        "\n",
        "DAISY_SOURCE_PATH = \"./tmp/flowers/daisy/\"\n",
        "DAISY_TRAINING_PATH = \"./tmp/training/daisy/\"\n",
        "DAISY_TESTING_PATH = \"./tmp/testing/daisy/\"\n",
        "\n",
        "DANDELION_SOURCE_PATH = \"./tmp/flowers/dandelion/\"\n",
        "DANDELION_TRAINING_PATH = \"./tmp/training/dandelion/\"\n",
        "DANDELION_TESTING_PATH = \"./tmp/testing/dandelion/\"\n",
        "\n",
        "TULIP_SOURCE_PATH = \"./tmp/flowers/tulip/\"\n",
        "TULIP_TRAINING_PATH = \"./tmp/training/tulip/\"\n",
        "TULIP_TESTING_PATH = \"./tmp/testing/tulip/\""
      ],
      "execution_count": 4,
      "outputs": []
    },
    {
      "cell_type": "code",
      "metadata": {
        "id": "FN9TDBPY_oYS"
      },
      "source": [
        "def splitter(SOURCE, TRAINING, TESTING, SPLIT_SIZE):\n",
        "    \n",
        "    list_files = []\n",
        "    files = os.listdir(SOURCE)\n",
        "\n",
        "    for file_name in files:\n",
        "        file_path = SOURCE + file_name\n",
        "\n",
        "        if os.path.getsize(file_path):\n",
        "            list_files.append(file_name)        \n",
        "    \n",
        "    shuffled = random.sample(list_files, len(list_files))  \n",
        "    idx = int(len(list_files) * SPLIT_SIZE)\n",
        "\n",
        "    train_set = shuffled[:idx]  \n",
        "    for file_name in train_set:\n",
        "        copyfile(SOURCE + file_name, TRAINING + file_name)\n",
        "\n",
        "    test_set = shuffled[idx:]    \n",
        "    for file_name in test_set:\n",
        "        copyfile(SOURCE + file_name, TESTING + file_name)"
      ],
      "execution_count": 5,
      "outputs": []
    },
    {
      "cell_type": "code",
      "metadata": {
        "id": "Z9HuAsWo_tO7"
      },
      "source": [
        "SPLIT_SIZE = .8\n",
        "splitter(DAISY_SOURCE_PATH, DAISY_TRAINING_PATH, DAISY_TESTING_PATH, SPLIT_SIZE)\n",
        "splitter(DANDELION_SOURCE_PATH, DANDELION_TRAINING_PATH, DANDELION_TESTING_PATH, SPLIT_SIZE)\n",
        "splitter(TULIP_SOURCE_PATH, TULIP_TRAINING_PATH, TULIP_TESTING_PATH, SPLIT_SIZE)"
      ],
      "execution_count": 6,
      "outputs": []
    },
    {
      "cell_type": "code",
      "metadata": {
        "colab": {
          "base_uri": "https://localhost:8080/",
          "height": 281
        },
        "id": "Kbv0mO_PBfzu",
        "outputId": "44a20ff3-faa2-409c-f29e-8b3e2d70a1a2"
      },
      "source": [
        "training = [len(os.listdir(\"./tmp/training/daisy/\")),\n",
        "            len(os.listdir(\"./tmp/training/dandelion/\")),          \n",
        "            len(os.listdir(\"./tmp/training/tulip/\"))]\n",
        "\n",
        "testing = [len(os.listdir('./tmp/testing/daisy/')),\n",
        "           len(os.listdir('./tmp/testing/dandelion/')),       \n",
        "           len(os.listdir('./tmp/testing/tulip/'))]\n",
        "\n",
        "sns.set_style('dark')\n",
        "fig, (ax1, ax2, ax3) = plt.subplots(1, 3)\n",
        "fig.set_figwidth(20)\n",
        "\n",
        "ax1.set_title('Daisy')\n",
        "ax1.bar(['Training','Testing'], [training[0], testing[0]], color=['#2a9d8f','#e63946'])\n",
        "\n",
        "ax2.set_title('Dandelion')\n",
        "ax2.bar(['Training','Testing'], [training[1], testing[1]], color=['#2a9d8f','#e63946'])\n",
        "\n",
        "ax3.set_title('Tulip')\n",
        "ax3.bar(['Training','Testing'], [training[2], testing[2]], color=['#2a9d8f','#e63946'])\n",
        "\n",
        "plt.show()"
      ],
      "execution_count": 7,
      "outputs": [
        {
          "output_type": "display_data",
          "data": {
            "image/png": "[encoded data removed]",
            "text/plain": [
              "<Figure size 1440x288 with 3 Axes>"
            ]
          },
          "metadata": {
            "tags": []
          }
        }
      ]
    },
    {
      "cell_type": "code",
      "metadata": {
        "id": "0XjAyCP0CsCq"
      },
      "source": [
        "model = tf.keras.models.Sequential([\n",
        "    tf.keras.layers.Conv2D(8, (3,3), activation='relu', input_shape=(150, 150, 3)),\n",
        "    tf.keras.layers.MaxPooling2D(2,2),\n",
        "    tf.keras.layers.Conv2D(16, (3,3), activation='relu'),\n",
        "    tf.keras.layers.MaxPooling2D(2,2),\n",
        "    tf.keras.layers.Conv2D(32, (3,3), activation='relu'),\n",
        "    tf.keras.layers.MaxPooling2D(2,2),\n",
        "    tf.keras.layers.Flatten(),\n",
        "    tf.keras.layers.Dense(128, activation='relu'),\n",
        "    tf.keras.layers.Dense(3, activation='sigmoid')\n",
        "])\n",
        "\n",
        "model.compile(loss='binary_crossentropy', optimizer='Adam', metrics=['accuracy'])"
      ],
      "execution_count": 8,
      "outputs": []
    },
    {
      "cell_type": "code",
      "metadata": {
        "colab": {
          "base_uri": "https://localhost:8080/"
        },
        "id": "vMfzAdYzCyke",
        "outputId": "9f19bbbe-b896-47ff-d11d-71b8cafd04f6"
      },
      "source": [
        "TRAINING_DIR = './tmp/training/'\n",
        "train_datagen = ImageDataGenerator(rescale=1./255, rotation_range=20, horizontal_flip = True, shear_range = 0.2,\n",
        "                                   zoom_range = 0.2, fill_mode = 'nearest')\n",
        "\n",
        "train_generator = train_datagen.flow_from_directory(\n",
        "    TRAINING_DIR,\n",
        "    batch_size=10,\n",
        "    class_mode='categorical',\n",
        "    target_size=(150, 150)\n",
        ")\n",
        "\n",
        "VALIDATION_DIR = './tmp/testing/' \n",
        "test_datagen = ImageDataGenerator(rescale=1./255, rotation_range=20, horizontal_flip=True, shear_range = 0.2,\n",
        "                                   zoom_range = 0.2, fill_mode = 'nearest')\n",
        "\n",
        "validation_generator = test_datagen.flow_from_directory(\n",
        "    VALIDATION_DIR,\n",
        "    batch_size=10,\n",
        "    class_mode='categorical',\n",
        "    target_size=(150, 150)\n",
        ")"
      ],
      "execution_count": 9,
      "outputs": [
        {
          "output_type": "stream",
          "text": [
            "Found 2239 images belonging to 3 classes.\n",
            "Found 561 images belonging to 3 classes.\n"
          ],
          "name": "stdout"
        }
      ]
    },
    {
      "cell_type": "code",
      "metadata": {
        "id": "Wq2uHvI1D4iD"
      },
      "source": [
        "class myCallback(tf.keras.callbacks.Callback):\n",
        "  def on_epoch_end(self, epoch, logs={}):\n",
        "    if(logs.get('accuracy')>0.83):\n",
        "      print(\"\\nReached 95.0% accuracy so cancelling training!\")\n",
        "      self.model.stop_training = True  \n",
        "callbacks = myCallback()"
      ],
      "execution_count": 10,
      "outputs": []
    },
    {
      "cell_type": "code",
      "metadata": {
        "colab": {
          "base_uri": "https://localhost:8080/"
        },
        "id": "UGbz1m_uC2jB",
        "outputId": "5220fad6-f418-44df-c055-0bcac9def366"
      },
      "source": [
        "model.fit(train_generator, epochs = 100, steps_per_epoch=150, validation_data=validation_generator, verbose=1, callbacks=[callbacks])"
      ],
      "execution_count": 11,
      "outputs": [
        {
          "output_type": "stream",
          "text": [
            "Epoch 1/100\n",
            "150/150 [==============================] - 37s 240ms/step - loss: 0.5600 - accuracy: 0.5510 - val_loss: 0.4460 - val_accuracy: 0.6774\n",
            "Epoch 2/100\n",
            "150/150 [==============================] - 36s 237ms/step - loss: 0.4450 - accuracy: 0.6805 - val_loss: 0.3676 - val_accuracy: 0.7576\n",
            "Epoch 3/100\n",
            "150/150 [==============================] - 36s 238ms/step - loss: 0.3878 - accuracy: 0.7413 - val_loss: 0.3476 - val_accuracy: 0.7772\n",
            "Epoch 4/100\n",
            "150/150 [==============================] - 36s 237ms/step - loss: 0.3643 - accuracy: 0.7613 - val_loss: 0.3603 - val_accuracy: 0.7647\n",
            "Epoch 5/100\n",
            "150/150 [==============================] - 35s 230ms/step - loss: 0.3358 - accuracy: 0.7892 - val_loss: 0.3388 - val_accuracy: 0.7772\n",
            "Epoch 6/100\n",
            "150/150 [==============================] - 35s 231ms/step - loss: 0.3341 - accuracy: 0.7852 - val_loss: 0.3309 - val_accuracy: 0.7879\n",
            "Epoch 7/100\n",
            "150/150 [==============================] - 37s 248ms/step - loss: 0.3285 - accuracy: 0.7893 - val_loss: 0.3685 - val_accuracy: 0.7629\n",
            "Epoch 8/100\n",
            "150/150 [==============================] - 35s 233ms/step - loss: 0.3180 - accuracy: 0.8085 - val_loss: 0.3325 - val_accuracy: 0.7629\n",
            "Epoch 9/100\n",
            "150/150 [==============================] - 35s 233ms/step - loss: 0.3093 - accuracy: 0.7992 - val_loss: 0.3172 - val_accuracy: 0.7986\n",
            "Epoch 10/100\n",
            "150/150 [==============================] - 36s 237ms/step - loss: 0.2882 - accuracy: 0.8152 - val_loss: 0.3403 - val_accuracy: 0.7950\n",
            "Epoch 11/100\n",
            "150/150 [==============================] - 36s 237ms/step - loss: 0.2894 - accuracy: 0.8199 - val_loss: 0.3340 - val_accuracy: 0.7825\n",
            "Epoch 12/100\n",
            "150/150 [==============================] - 36s 238ms/step - loss: 0.2743 - accuracy: 0.8252 - val_loss: 0.3430 - val_accuracy: 0.7772\n",
            "Epoch 13/100\n",
            "150/150 [==============================] - 36s 242ms/step - loss: 0.2603 - accuracy: 0.8293 - val_loss: 0.3408 - val_accuracy: 0.8004\n",
            "Epoch 14/100\n",
            "150/150 [==============================] - 35s 233ms/step - loss: 0.2742 - accuracy: 0.8339 - val_loss: 0.3242 - val_accuracy: 0.8021\n",
            "\n",
            "Reached 95.0% accuracy so cancelling training!\n"
          ],
          "name": "stdout"
        },
        {
          "output_type": "execute_result",
          "data": {
            "text/plain": [
              "<tensorflow.python.keras.callbacks.History at 0x7f94c8af1ed0>"
            ]
          },
          "metadata": {
            "tags": []
          },
          "execution_count": 11
        }
      ]
    },
    {
      "cell_type": "code",
      "metadata": {
        "colab": {
          "base_uri": "https://localhost:8080/"
        },
        "id": "ZtC2pmCiNC1t",
        "outputId": "cd87e324-5fcb-49e9-baf7-11a463b4e5db"
      },
      "source": [
        "converter = tf.lite.TFLiteConverter.from_keras_model(model)\n",
        "tflite_model = converter.convert()"
      ],
      "execution_count": 12,
      "outputs": [
        {
          "output_type": "stream",
          "text": [
            "INFO:tensorflow:Assets written to: /tmp/tmpq78zrwvm/assets\n"
          ],
          "name": "stdout"
        }
      ]
    },
    {
      "cell_type": "code",
      "metadata": {
        "id": "49hJskH4NJBU"
      },
      "source": [
        "with tf.io.gfile.GFile('model.tflite', 'wb') as f:\n",
        "  f.write(tflite_model)"
      ],
      "execution_count": 13,
      "outputs": []
    }
  ]
}
