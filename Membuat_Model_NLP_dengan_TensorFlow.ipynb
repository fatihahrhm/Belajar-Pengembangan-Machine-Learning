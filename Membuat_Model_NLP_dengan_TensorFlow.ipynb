{
  "nbformat": 4,
  "nbformat_minor": 0,
  "metadata": {
    "colab": {
      "name": "Fatihah Rahmadayana_Membuat Model NLP dengan TensorFlow.ipynb",
      "provenance": []
    },
    "kernelspec": {
      "name": "python3",
      "display_name": "Python 3"
    },
    "language_info": {
      "name": "python"
    }
  },
  "cells": [
    {
      "cell_type": "markdown",
      "metadata": {
        "id": "m6mBNqPn0d9V"
      },
      "source": [
        "<h1> Belajar Pengembangan Machine Learning </h1>\n",
        "<h3> Proyek Pertama : Membuat Model NLP dengan TensorFlow </h3>\n",
        "\n",
        "Nama : Fatihah Rahmadayana\n",
        "\n",
        "Dataset Source : https://www.kaggle.com/agustrinaldo/nlp-emotion-text-dataset-bahasa-indonesia"
      ]
    },
    {
      "cell_type": "code",
      "metadata": {
        "colab": {
          "base_uri": "https://localhost:8080/"
        },
        "id": "bWQFiZV3kOWU",
        "outputId": "7b24cb55-edc6-41b6-d1ad-90869f6b8a2e"
      },
      "source": [
        "import pandas as pd\n",
        "from google.colab import drive\n",
        "from sklearn.model_selection import train_test_split\n",
        "from tensorflow.keras.preprocessing.text import Tokenizer\n",
        "from tensorflow.keras.preprocessing.sequence import pad_sequences\n",
        "import tensorflow as tf\n",
        "\n",
        "drive.mount('/content/drive/')"
      ],
      "execution_count": 1,
      "outputs": [
        {
          "output_type": "stream",
          "text": [
            "Mounted at /content/drive/\n"
          ],
          "name": "stdout"
        }
      ]
    },
    {
      "cell_type": "code",
      "metadata": {
        "colab": {
          "base_uri": "https://localhost:8080/",
          "height": 423
        },
        "id": "KCWmWmTykTfS",
        "outputId": "741a93f3-c785-4b40-ea8a-2c8c8765b33b"
      },
      "source": [
        "pd.set_option('max_colwidth', 400)\n",
        "data = pd.read_csv(r'/content/drive/My Drive/data/data.txt', error_bad_lines=False, delimiter=';', names=['text','emotions'])\n",
        "data"
      ],
      "execution_count": 2,
      "outputs": [
        {
          "output_type": "execute_result",
          "data": {
            "text/html": [
              "<div>\n",
              "<style scoped>\n",
              "    .dataframe tbody tr th:only-of-type {\n",
              "        vertical-align: middle;\n",
              "    }\n",
              "\n",
              "    .dataframe tbody tr th {\n",
              "        vertical-align: top;\n",
              "    }\n",
              "\n",
              "    .dataframe thead th {\n",
              "        text-align: right;\n",
              "    }\n",
              "</style>\n",
              "<table border=\"1\" class=\"dataframe\">\n",
              "  <thead>\n",
              "    <tr style=\"text-align: right;\">\n",
              "      <th></th>\n",
              "      <th>text</th>\n",
              "      <th>emotions</th>\n",
              "    </tr>\n",
              "  </thead>\n",
              "  <tbody>\n",
              "    <tr>\n",
              "      <th>0</th>\n",
              "      <td>saya tidak merasa terhina</td>\n",
              "      <td>kesedihan</td>\n",
              "    </tr>\n",
              "    <tr>\n",
              "      <th>1</th>\n",
              "      <td>saya bisa berubah dari merasa sangat putus asa menjadi sangat berharap hanya dari berada di sekitar seseorang yang peduli dan terjaga</td>\n",
              "      <td>kesedihan</td>\n",
              "    </tr>\n",
              "    <tr>\n",
              "      <th>2</th>\n",
              "      <td>saya mengambil waktu sebentar untuk memposting saya merasa serakah salah</td>\n",
              "      <td>kemarahan</td>\n",
              "    </tr>\n",
              "    <tr>\n",
              "      <th>3</th>\n",
              "      <td>saya pernah merasa nostalgia tentang perapian saya akan tahu bahwa itu masih di properti</td>\n",
              "      <td>cinta</td>\n",
              "    </tr>\n",
              "    <tr>\n",
              "      <th>4</th>\n",
              "      <td>saya merasa kesal</td>\n",
              "      <td>kemarahan</td>\n",
              "    </tr>\n",
              "    <tr>\n",
              "      <th>...</th>\n",
              "      <td>...</td>\n",
              "      <td>...</td>\n",
              "    </tr>\n",
              "    <tr>\n",
              "      <th>15995</th>\n",
              "      <td>saya hanya memiliki waktu yang sangat singkat di beanbag dan saya berkata kepada anna bahwa saya merasa seperti saya telah dipukuli</td>\n",
              "      <td>kesedihan</td>\n",
              "    </tr>\n",
              "    <tr>\n",
              "      <th>15996</th>\n",
              "      <td>saya sekarang berbalik dan saya merasa menyedihkan bahwa saya masih menunggu meja dan subbing dengan gelar mengajar</td>\n",
              "      <td>kesedihan</td>\n",
              "    </tr>\n",
              "    <tr>\n",
              "      <th>15997</th>\n",
              "      <td>saya merasa kuat dan baik secara keseluruhan</td>\n",
              "      <td>kegembiraan</td>\n",
              "    </tr>\n",
              "    <tr>\n",
              "      <th>15998</th>\n",
              "      <td>Saya merasa ini adalah komentar yang kasar dan saya senang bahwa t</td>\n",
              "      <td>kemarahan</td>\n",
              "    </tr>\n",
              "    <tr>\n",
              "      <th>15999</th>\n",
              "      <td>saya tahu banyak tapi saya merasa sangat bodoh karena saya tidak bisa menggambarkannya</td>\n",
              "      <td>kesedihan</td>\n",
              "    </tr>\n",
              "  </tbody>\n",
              "</table>\n",
              "<p>16000 rows × 2 columns</p>\n",
              "</div>"
            ],
            "text/plain": [
              "                                                                                                                                        text     emotions\n",
              "0                                                                                                                  saya tidak merasa terhina    kesedihan\n",
              "1      saya bisa berubah dari merasa sangat putus asa menjadi sangat berharap hanya dari berada di sekitar seseorang yang peduli dan terjaga    kesedihan\n",
              "2                                                                   saya mengambil waktu sebentar untuk memposting saya merasa serakah salah    kemarahan\n",
              "3                                                   saya pernah merasa nostalgia tentang perapian saya akan tahu bahwa itu masih di properti        cinta\n",
              "4                                                                                                                          saya merasa kesal    kemarahan\n",
              "...                                                                                                                                      ...          ...\n",
              "15995    saya hanya memiliki waktu yang sangat singkat di beanbag dan saya berkata kepada anna bahwa saya merasa seperti saya telah dipukuli    kesedihan\n",
              "15996                    saya sekarang berbalik dan saya merasa menyedihkan bahwa saya masih menunggu meja dan subbing dengan gelar mengajar    kesedihan\n",
              "15997                                                                                           saya merasa kuat dan baik secara keseluruhan  kegembiraan\n",
              "15998                                                                     Saya merasa ini adalah komentar yang kasar dan saya senang bahwa t    kemarahan\n",
              "15999                                                 saya tahu banyak tapi saya merasa sangat bodoh karena saya tidak bisa menggambarkannya    kesedihan\n",
              "\n",
              "[16000 rows x 2 columns]"
            ]
          },
          "metadata": {
            "tags": []
          },
          "execution_count": 2
        }
      ]
    },
    {
      "cell_type": "code",
      "metadata": {
        "colab": {
          "base_uri": "https://localhost:8080/",
          "height": 206
        },
        "id": "B1amAaKEt9rM",
        "outputId": "70ecae3f-e686-4ec7-c754-89ced89fabb1"
      },
      "source": [
        "data = data[(data.emotions == 'kesedihan') | (data.emotions == 'kegembiraan') | (data.emotions == 'kemarahan') | (data.emotions == 'ketakutan') | (data.emotions == 'cinta')]\n",
        "data.reset_index(inplace=True, drop=True)\n",
        "data.head()"
      ],
      "execution_count": 3,
      "outputs": [
        {
          "output_type": "execute_result",
          "data": {
            "text/html": [
              "<div>\n",
              "<style scoped>\n",
              "    .dataframe tbody tr th:only-of-type {\n",
              "        vertical-align: middle;\n",
              "    }\n",
              "\n",
              "    .dataframe tbody tr th {\n",
              "        vertical-align: top;\n",
              "    }\n",
              "\n",
              "    .dataframe thead th {\n",
              "        text-align: right;\n",
              "    }\n",
              "</style>\n",
              "<table border=\"1\" class=\"dataframe\">\n",
              "  <thead>\n",
              "    <tr style=\"text-align: right;\">\n",
              "      <th></th>\n",
              "      <th>text</th>\n",
              "      <th>emotions</th>\n",
              "    </tr>\n",
              "  </thead>\n",
              "  <tbody>\n",
              "    <tr>\n",
              "      <th>0</th>\n",
              "      <td>saya tidak merasa terhina</td>\n",
              "      <td>kesedihan</td>\n",
              "    </tr>\n",
              "    <tr>\n",
              "      <th>1</th>\n",
              "      <td>saya bisa berubah dari merasa sangat putus asa menjadi sangat berharap hanya dari berada di sekitar seseorang yang peduli dan terjaga</td>\n",
              "      <td>kesedihan</td>\n",
              "    </tr>\n",
              "    <tr>\n",
              "      <th>2</th>\n",
              "      <td>saya mengambil waktu sebentar untuk memposting saya merasa serakah salah</td>\n",
              "      <td>kemarahan</td>\n",
              "    </tr>\n",
              "    <tr>\n",
              "      <th>3</th>\n",
              "      <td>saya pernah merasa nostalgia tentang perapian saya akan tahu bahwa itu masih di properti</td>\n",
              "      <td>cinta</td>\n",
              "    </tr>\n",
              "    <tr>\n",
              "      <th>4</th>\n",
              "      <td>saya merasa kesal</td>\n",
              "      <td>kemarahan</td>\n",
              "    </tr>\n",
              "  </tbody>\n",
              "</table>\n",
              "</div>"
            ],
            "text/plain": [
              "                                                                                                                                    text   emotions\n",
              "0                                                                                                              saya tidak merasa terhina  kesedihan\n",
              "1  saya bisa berubah dari merasa sangat putus asa menjadi sangat berharap hanya dari berada di sekitar seseorang yang peduli dan terjaga  kesedihan\n",
              "2                                                               saya mengambil waktu sebentar untuk memposting saya merasa serakah salah  kemarahan\n",
              "3                                               saya pernah merasa nostalgia tentang perapian saya akan tahu bahwa itu masih di properti      cinta\n",
              "4                                                                                                                      saya merasa kesal  kemarahan"
            ]
          },
          "metadata": {
            "tags": []
          },
          "execution_count": 3
        }
      ]
    },
    {
      "cell_type": "code",
      "metadata": {
        "colab": {
          "base_uri": "https://localhost:8080/",
          "height": 223
        },
        "id": "RX7O74YZsAVM",
        "outputId": "d64319ff-fb09-4884-899e-1036b17cb215"
      },
      "source": [
        "emotions = pd.get_dummies(data.emotions)\n",
        "df = pd.concat([data, emotions], axis=1)\n",
        "df = df.drop(columns='emotions')\n",
        "df.head()"
      ],
      "execution_count": 4,
      "outputs": [
        {
          "output_type": "execute_result",
          "data": {
            "text/html": [
              "<div>\n",
              "<style scoped>\n",
              "    .dataframe tbody tr th:only-of-type {\n",
              "        vertical-align: middle;\n",
              "    }\n",
              "\n",
              "    .dataframe tbody tr th {\n",
              "        vertical-align: top;\n",
              "    }\n",
              "\n",
              "    .dataframe thead th {\n",
              "        text-align: right;\n",
              "    }\n",
              "</style>\n",
              "<table border=\"1\" class=\"dataframe\">\n",
              "  <thead>\n",
              "    <tr style=\"text-align: right;\">\n",
              "      <th></th>\n",
              "      <th>text</th>\n",
              "      <th>cinta</th>\n",
              "      <th>kegembiraan</th>\n",
              "      <th>kemarahan</th>\n",
              "      <th>kesedihan</th>\n",
              "      <th>ketakutan</th>\n",
              "    </tr>\n",
              "  </thead>\n",
              "  <tbody>\n",
              "    <tr>\n",
              "      <th>0</th>\n",
              "      <td>saya tidak merasa terhina</td>\n",
              "      <td>0</td>\n",
              "      <td>0</td>\n",
              "      <td>0</td>\n",
              "      <td>1</td>\n",
              "      <td>0</td>\n",
              "    </tr>\n",
              "    <tr>\n",
              "      <th>1</th>\n",
              "      <td>saya bisa berubah dari merasa sangat putus asa menjadi sangat berharap hanya dari berada di sekitar seseorang yang peduli dan terjaga</td>\n",
              "      <td>0</td>\n",
              "      <td>0</td>\n",
              "      <td>0</td>\n",
              "      <td>1</td>\n",
              "      <td>0</td>\n",
              "    </tr>\n",
              "    <tr>\n",
              "      <th>2</th>\n",
              "      <td>saya mengambil waktu sebentar untuk memposting saya merasa serakah salah</td>\n",
              "      <td>0</td>\n",
              "      <td>0</td>\n",
              "      <td>1</td>\n",
              "      <td>0</td>\n",
              "      <td>0</td>\n",
              "    </tr>\n",
              "    <tr>\n",
              "      <th>3</th>\n",
              "      <td>saya pernah merasa nostalgia tentang perapian saya akan tahu bahwa itu masih di properti</td>\n",
              "      <td>1</td>\n",
              "      <td>0</td>\n",
              "      <td>0</td>\n",
              "      <td>0</td>\n",
              "      <td>0</td>\n",
              "    </tr>\n",
              "    <tr>\n",
              "      <th>4</th>\n",
              "      <td>saya merasa kesal</td>\n",
              "      <td>0</td>\n",
              "      <td>0</td>\n",
              "      <td>1</td>\n",
              "      <td>0</td>\n",
              "      <td>0</td>\n",
              "    </tr>\n",
              "  </tbody>\n",
              "</table>\n",
              "</div>"
            ],
            "text/plain": [
              "                                                                                                                                    text  ...  ketakutan\n",
              "0                                                                                                              saya tidak merasa terhina  ...          0\n",
              "1  saya bisa berubah dari merasa sangat putus asa menjadi sangat berharap hanya dari berada di sekitar seseorang yang peduli dan terjaga  ...          0\n",
              "2                                                               saya mengambil waktu sebentar untuk memposting saya merasa serakah salah  ...          0\n",
              "3                                               saya pernah merasa nostalgia tentang perapian saya akan tahu bahwa itu masih di properti  ...          0\n",
              "4                                                                                                                      saya merasa kesal  ...          0\n",
              "\n",
              "[5 rows x 6 columns]"
            ]
          },
          "metadata": {
            "tags": []
          },
          "execution_count": 4
        }
      ]
    },
    {
      "cell_type": "code",
      "metadata": {
        "id": "iYmF0V3fvazz"
      },
      "source": [
        "X = df['text'].values\n",
        "y = df[['cinta', 'kegembiraan', 'kemarahan', 'kesedihan', 'ketakutan']].values"
      ],
      "execution_count": 5,
      "outputs": []
    },
    {
      "cell_type": "code",
      "metadata": {
        "id": "vObcepS9wXyQ"
      },
      "source": [
        "X_train, X_test, y_train, y_test = train_test_split(X, y, test_size=0.2)\n",
        "\n",
        "tokenizer = Tokenizer(num_words = 5000, oov_token='x')\n",
        "tokenizer.fit_on_texts(X_train) \n",
        "tokenizer.fit_on_texts(X_test)\n",
        "train_sequences = tokenizer.texts_to_sequences(X_train)\n",
        "test_sequences = tokenizer.texts_to_sequences(X_test)\n",
        "train_padded = pad_sequences(train_sequences) \n",
        "test_padded = pad_sequences(test_sequences)"
      ],
      "execution_count": 6,
      "outputs": []
    },
    {
      "cell_type": "code",
      "metadata": {
        "id": "yGz1CNu3w5nf"
      },
      "source": [
        "model = tf.keras.Sequential([\n",
        "    tf.keras.layers.Embedding(input_dim = 5000, output_dim=16),\n",
        "    tf.keras.layers.LSTM(64),\n",
        "    tf.keras.layers.Dense(256, activation='relu'),\n",
        "    tf.keras.layers.Dense(128, activation='relu'),\n",
        "    tf.keras.layers.Dense(64, activation='relu'),\n",
        "    tf.keras.layers.Dense(5, activation='softmax')\n",
        "])\n",
        "model.compile(loss='categorical_crossentropy', optimizer='adam', metrics=['accuracy'])"
      ],
      "execution_count": 7,
      "outputs": []
    },
    {
      "cell_type": "code",
      "metadata": {
        "colab": {
          "base_uri": "https://localhost:8080/"
        },
        "id": "O6hH-vPrxb7p",
        "outputId": "d391f270-f4ab-4366-eed9-8ff862dd0548"
      },
      "source": [
        "model.fit(train_padded, y_train, epochs=15, \n",
        "                    validation_data=(test_padded, y_test), verbose=1)"
      ],
      "execution_count": 8,
      "outputs": [
        {
          "output_type": "stream",
          "text": [
            "Epoch 1/15\n",
            "381/381 [==============================] - 19s 43ms/step - loss: 1.3473 - accuracy: 0.3960 - val_loss: 1.1311 - val_accuracy: 0.5373\n",
            "Epoch 2/15\n",
            "381/381 [==============================] - 16s 42ms/step - loss: 0.9143 - accuracy: 0.6302 - val_loss: 0.9420 - val_accuracy: 0.6399\n",
            "Epoch 3/15\n",
            "381/381 [==============================] - 15s 41ms/step - loss: 0.6882 - accuracy: 0.7466 - val_loss: 0.8945 - val_accuracy: 0.6643\n",
            "Epoch 4/15\n",
            "381/381 [==============================] - 16s 41ms/step - loss: 0.5548 - accuracy: 0.8054 - val_loss: 0.8096 - val_accuracy: 0.7040\n",
            "Epoch 5/15\n",
            "381/381 [==============================] - 16s 42ms/step - loss: 0.4643 - accuracy: 0.8411 - val_loss: 0.8046 - val_accuracy: 0.7350\n",
            "Epoch 6/15\n",
            "381/381 [==============================] - 16s 41ms/step - loss: 0.3862 - accuracy: 0.8714 - val_loss: 0.7995 - val_accuracy: 0.7455\n",
            "Epoch 7/15\n",
            "381/381 [==============================] - 15s 41ms/step - loss: 0.3316 - accuracy: 0.8904 - val_loss: 0.7792 - val_accuracy: 0.7475\n",
            "Epoch 8/15\n",
            "381/381 [==============================] - 16s 41ms/step - loss: 0.2884 - accuracy: 0.9049 - val_loss: 0.8476 - val_accuracy: 0.7373\n",
            "Epoch 9/15\n",
            "381/381 [==============================] - 16s 41ms/step - loss: 0.2469 - accuracy: 0.9160 - val_loss: 0.8379 - val_accuracy: 0.7435\n",
            "Epoch 10/15\n",
            "381/381 [==============================] - 16s 41ms/step - loss: 0.2170 - accuracy: 0.9276 - val_loss: 0.9618 - val_accuracy: 0.7590\n",
            "Epoch 11/15\n",
            "381/381 [==============================] - 16s 41ms/step - loss: 0.1818 - accuracy: 0.9380 - val_loss: 0.9979 - val_accuracy: 0.7540\n",
            "Epoch 12/15\n",
            "381/381 [==============================] - 16s 41ms/step - loss: 0.1669 - accuracy: 0.9408 - val_loss: 1.1007 - val_accuracy: 0.7412\n",
            "Epoch 13/15\n",
            "381/381 [==============================] - 16s 41ms/step - loss: 0.1496 - accuracy: 0.9499 - val_loss: 1.1515 - val_accuracy: 0.7425\n",
            "Epoch 14/15\n",
            "381/381 [==============================] - 15s 41ms/step - loss: 0.1375 - accuracy: 0.9540 - val_loss: 1.1049 - val_accuracy: 0.7445\n",
            "Epoch 15/15\n",
            "381/381 [==============================] - 16s 41ms/step - loss: 0.1152 - accuracy: 0.9579 - val_loss: 1.2363 - val_accuracy: 0.7445\n"
          ],
          "name": "stdout"
        },
        {
          "output_type": "execute_result",
          "data": {
            "text/plain": [
              "<tensorflow.python.keras.callbacks.History at 0x7f878328ccd0>"
            ]
          },
          "metadata": {
            "tags": []
          },
          "execution_count": 8
        }
      ]
    }
  ]
}
