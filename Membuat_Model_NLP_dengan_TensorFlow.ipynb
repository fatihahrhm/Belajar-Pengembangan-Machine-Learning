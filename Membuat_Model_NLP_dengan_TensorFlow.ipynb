{
  "nbformat": 4,
  "nbformat_minor": 0,
  "metadata": {
    "colab": {
      "name": "Fatihah Rahmadayana_Membuat Model NLP dengan TensorFlow.ipynb",
      "provenance": []
    },
    "kernelspec": {
      "name": "python3",
      "display_name": "Python 3"
    },
    "language_info": {
      "name": "python"
    }
  },
  "cells": [
    {
      "cell_type": "markdown",
      "metadata": {
        "id": "m6mBNqPn0d9V"
      },
      "source": [
        "<h1> Belajar Pengembangan Machine Learning </h1>\n",
        "<h3> Proyek Pertama : Membuat Model NLP dengan TensorFlow </h3>\n",
        "\n",
        "Nama : Fatihah Rahmadayana\n",
        "\n",
        "Dataset Source : https://www.kaggle.com/agustrinaldo/nlp-emotion-text-dataset-bahasa-indonesia"
      ]
    },
    {
      "cell_type": "code",
      "metadata": {
        "colab": {
          "base_uri": "https://localhost:8080/"
        },
        "id": "bWQFiZV3kOWU",
        "outputId": "9616b300-527f-4394-af85-edca28b1aebe"
      },
      "source": [
        "import pandas as pd\n",
        "from google.colab import drive\n",
        "from sklearn.model_selection import train_test_split\n",
        "from tensorflow.keras.preprocessing.text import Tokenizer\n",
        "from tensorflow.keras.preprocessing.sequence import pad_sequences\n",
        "import tensorflow as tf\n",
        "\n",
        "drive.mount('/content/drive/')"
      ],
      "execution_count": 1,
      "outputs": [
        {
          "output_type": "stream",
          "text": [
            "Drive already mounted at /content/drive/; to attempt to forcibly remount, call drive.mount(\"/content/drive/\", force_remount=True).\n"
          ],
          "name": "stdout"
        }
      ]
    },
    {
      "cell_type": "code",
      "metadata": {
        "colab": {
          "base_uri": "https://localhost:8080/",
          "height": 423
        },
        "id": "KCWmWmTykTfS",
        "outputId": "619e3604-db9f-4fc4-b831-a7fd8cc2214e"
      },
      "source": [
        "pd.set_option('max_colwidth', 400)\n",
        "data = pd.read_csv(r'/content/drive/My Drive/data/data.txt', error_bad_lines=False, delimiter=';', names=['text','emotions'])\n",
        "data"
      ],
      "execution_count": 2,
      "outputs": [
        {
          "output_type": "execute_result",
          "data": {
            "text/html": [
              "<div>\n",
              "<style scoped>\n",
              "    .dataframe tbody tr th:only-of-type {\n",
              "        vertical-align: middle;\n",
              "    }\n",
              "\n",
              "    .dataframe tbody tr th {\n",
              "        vertical-align: top;\n",
              "    }\n",
              "\n",
              "    .dataframe thead th {\n",
              "        text-align: right;\n",
              "    }\n",
              "</style>\n",
              "<table border=\"1\" class=\"dataframe\">\n",
              "  <thead>\n",
              "    <tr style=\"text-align: right;\">\n",
              "      <th></th>\n",
              "      <th>text</th>\n",
              "      <th>emotions</th>\n",
              "    </tr>\n",
              "  </thead>\n",
              "  <tbody>\n",
              "    <tr>\n",
              "      <th>0</th>\n",
              "      <td>saya tidak merasa terhina</td>\n",
              "      <td>kesedihan</td>\n",
              "    </tr>\n",
              "    <tr>\n",
              "      <th>1</th>\n",
              "      <td>saya bisa berubah dari merasa sangat putus asa menjadi sangat berharap hanya dari berada di sekitar seseorang yang peduli dan terjaga</td>\n",
              "      <td>kesedihan</td>\n",
              "    </tr>\n",
              "    <tr>\n",
              "      <th>2</th>\n",
              "      <td>saya mengambil waktu sebentar untuk memposting saya merasa serakah salah</td>\n",
              "      <td>kemarahan</td>\n",
              "    </tr>\n",
              "    <tr>\n",
              "      <th>3</th>\n",
              "      <td>saya pernah merasa nostalgia tentang perapian saya akan tahu bahwa itu masih di properti</td>\n",
              "      <td>cinta</td>\n",
              "    </tr>\n",
              "    <tr>\n",
              "      <th>4</th>\n",
              "      <td>saya merasa kesal</td>\n",
              "      <td>kemarahan</td>\n",
              "    </tr>\n",
              "    <tr>\n",
              "      <th>...</th>\n",
              "      <td>...</td>\n",
              "      <td>...</td>\n",
              "    </tr>\n",
              "    <tr>\n",
              "      <th>15995</th>\n",
              "      <td>saya hanya memiliki waktu yang sangat singkat di beanbag dan saya berkata kepada anna bahwa saya merasa seperti saya telah dipukuli</td>\n",
              "      <td>kesedihan</td>\n",
              "    </tr>\n",
              "    <tr>\n",
              "      <th>15996</th>\n",
              "      <td>saya sekarang berbalik dan saya merasa menyedihkan bahwa saya masih menunggu meja dan subbing dengan gelar mengajar</td>\n",
              "      <td>kesedihan</td>\n",
              "    </tr>\n",
              "    <tr>\n",
              "      <th>15997</th>\n",
              "      <td>saya merasa kuat dan baik secara keseluruhan</td>\n",
              "      <td>kegembiraan</td>\n",
              "    </tr>\n",
              "    <tr>\n",
              "      <th>15998</th>\n",
              "      <td>Saya merasa ini adalah komentar yang kasar dan saya senang bahwa t</td>\n",
              "      <td>kemarahan</td>\n",
              "    </tr>\n",
              "    <tr>\n",
              "      <th>15999</th>\n",
              "      <td>saya tahu banyak tapi saya merasa sangat bodoh karena saya tidak bisa menggambarkannya</td>\n",
              "      <td>kesedihan</td>\n",
              "    </tr>\n",
              "  </tbody>\n",
              "</table>\n",
              "<p>16000 rows × 2 columns</p>\n",
              "</div>"
            ],
            "text/plain": [
              "                                                                                                                                        text     emotions\n",
              "0                                                                                                                  saya tidak merasa terhina    kesedihan\n",
              "1      saya bisa berubah dari merasa sangat putus asa menjadi sangat berharap hanya dari berada di sekitar seseorang yang peduli dan terjaga    kesedihan\n",
              "2                                                                   saya mengambil waktu sebentar untuk memposting saya merasa serakah salah    kemarahan\n",
              "3                                                   saya pernah merasa nostalgia tentang perapian saya akan tahu bahwa itu masih di properti        cinta\n",
              "4                                                                                                                          saya merasa kesal    kemarahan\n",
              "...                                                                                                                                      ...          ...\n",
              "15995    saya hanya memiliki waktu yang sangat singkat di beanbag dan saya berkata kepada anna bahwa saya merasa seperti saya telah dipukuli    kesedihan\n",
              "15996                    saya sekarang berbalik dan saya merasa menyedihkan bahwa saya masih menunggu meja dan subbing dengan gelar mengajar    kesedihan\n",
              "15997                                                                                           saya merasa kuat dan baik secara keseluruhan  kegembiraan\n",
              "15998                                                                     Saya merasa ini adalah komentar yang kasar dan saya senang bahwa t    kemarahan\n",
              "15999                                                 saya tahu banyak tapi saya merasa sangat bodoh karena saya tidak bisa menggambarkannya    kesedihan\n",
              "\n",
              "[16000 rows x 2 columns]"
            ]
          },
          "metadata": {
            "tags": []
          },
          "execution_count": 2
        }
      ]
    },
    {
      "cell_type": "code",
      "metadata": {
        "colab": {
          "base_uri": "https://localhost:8080/",
          "height": 206
        },
        "id": "B1amAaKEt9rM",
        "outputId": "347adf86-2e9a-48a4-8446-e8a6fdd51459"
      },
      "source": [
        "data = data[(data.emotions == 'kesedihan') | (data.emotions == 'kegembiraan') | (data.emotions == 'kemarahan') | (data.emotions == 'ketakutan') | (data.emotions == 'cinta')]\n",
        "data.reset_index(inplace=True, drop=True)\n",
        "data.head()"
      ],
      "execution_count": 23,
      "outputs": [
        {
          "output_type": "execute_result",
          "data": {
            "text/html": [
              "<div>\n",
              "<style scoped>\n",
              "    .dataframe tbody tr th:only-of-type {\n",
              "        vertical-align: middle;\n",
              "    }\n",
              "\n",
              "    .dataframe tbody tr th {\n",
              "        vertical-align: top;\n",
              "    }\n",
              "\n",
              "    .dataframe thead th {\n",
              "        text-align: right;\n",
              "    }\n",
              "</style>\n",
              "<table border=\"1\" class=\"dataframe\">\n",
              "  <thead>\n",
              "    <tr style=\"text-align: right;\">\n",
              "      <th></th>\n",
              "      <th>text</th>\n",
              "      <th>emotions</th>\n",
              "    </tr>\n",
              "  </thead>\n",
              "  <tbody>\n",
              "    <tr>\n",
              "      <th>0</th>\n",
              "      <td>saya tidak merasa terhina</td>\n",
              "      <td>kesedihan</td>\n",
              "    </tr>\n",
              "    <tr>\n",
              "      <th>1</th>\n",
              "      <td>saya bisa berubah dari merasa sangat putus asa menjadi sangat berharap hanya dari berada di sekitar seseorang yang peduli dan terjaga</td>\n",
              "      <td>kesedihan</td>\n",
              "    </tr>\n",
              "    <tr>\n",
              "      <th>2</th>\n",
              "      <td>saya mengambil waktu sebentar untuk memposting saya merasa serakah salah</td>\n",
              "      <td>kemarahan</td>\n",
              "    </tr>\n",
              "    <tr>\n",
              "      <th>3</th>\n",
              "      <td>saya pernah merasa nostalgia tentang perapian saya akan tahu bahwa itu masih di properti</td>\n",
              "      <td>cinta</td>\n",
              "    </tr>\n",
              "    <tr>\n",
              "      <th>4</th>\n",
              "      <td>saya merasa kesal</td>\n",
              "      <td>kemarahan</td>\n",
              "    </tr>\n",
              "  </tbody>\n",
              "</table>\n",
              "</div>"
            ],
            "text/plain": [
              "                                                                                                                                    text   emotions\n",
              "0                                                                                                              saya tidak merasa terhina  kesedihan\n",
              "1  saya bisa berubah dari merasa sangat putus asa menjadi sangat berharap hanya dari berada di sekitar seseorang yang peduli dan terjaga  kesedihan\n",
              "2                                                               saya mengambil waktu sebentar untuk memposting saya merasa serakah salah  kemarahan\n",
              "3                                               saya pernah merasa nostalgia tentang perapian saya akan tahu bahwa itu masih di properti      cinta\n",
              "4                                                                                                                      saya merasa kesal  kemarahan"
            ]
          },
          "metadata": {
            "tags": []
          },
          "execution_count": 23
        }
      ]
    },
    {
      "cell_type": "code",
      "metadata": {
        "colab": {
          "base_uri": "https://localhost:8080/",
          "height": 223
        },
        "id": "RX7O74YZsAVM",
        "outputId": "2dabc3f4-6cc8-4354-8eff-2ee84d88fb70"
      },
      "source": [
        "emotions = pd.get_dummies(data.emotions)\n",
        "df = pd.concat([data, emotions], axis=1)\n",
        "df = df.drop(columns='emotions')\n",
        "df.head()"
      ],
      "execution_count": 24,
      "outputs": [
        {
          "output_type": "execute_result",
          "data": {
            "text/html": [
              "<div>\n",
              "<style scoped>\n",
              "    .dataframe tbody tr th:only-of-type {\n",
              "        vertical-align: middle;\n",
              "    }\n",
              "\n",
              "    .dataframe tbody tr th {\n",
              "        vertical-align: top;\n",
              "    }\n",
              "\n",
              "    .dataframe thead th {\n",
              "        text-align: right;\n",
              "    }\n",
              "</style>\n",
              "<table border=\"1\" class=\"dataframe\">\n",
              "  <thead>\n",
              "    <tr style=\"text-align: right;\">\n",
              "      <th></th>\n",
              "      <th>text</th>\n",
              "      <th>cinta</th>\n",
              "      <th>kegembiraan</th>\n",
              "      <th>kemarahan</th>\n",
              "      <th>kesedihan</th>\n",
              "      <th>ketakutan</th>\n",
              "    </tr>\n",
              "  </thead>\n",
              "  <tbody>\n",
              "    <tr>\n",
              "      <th>0</th>\n",
              "      <td>saya tidak merasa terhina</td>\n",
              "      <td>0</td>\n",
              "      <td>0</td>\n",
              "      <td>0</td>\n",
              "      <td>1</td>\n",
              "      <td>0</td>\n",
              "    </tr>\n",
              "    <tr>\n",
              "      <th>1</th>\n",
              "      <td>saya bisa berubah dari merasa sangat putus asa menjadi sangat berharap hanya dari berada di sekitar seseorang yang peduli dan terjaga</td>\n",
              "      <td>0</td>\n",
              "      <td>0</td>\n",
              "      <td>0</td>\n",
              "      <td>1</td>\n",
              "      <td>0</td>\n",
              "    </tr>\n",
              "    <tr>\n",
              "      <th>2</th>\n",
              "      <td>saya mengambil waktu sebentar untuk memposting saya merasa serakah salah</td>\n",
              "      <td>0</td>\n",
              "      <td>0</td>\n",
              "      <td>1</td>\n",
              "      <td>0</td>\n",
              "      <td>0</td>\n",
              "    </tr>\n",
              "    <tr>\n",
              "      <th>3</th>\n",
              "      <td>saya pernah merasa nostalgia tentang perapian saya akan tahu bahwa itu masih di properti</td>\n",
              "      <td>1</td>\n",
              "      <td>0</td>\n",
              "      <td>0</td>\n",
              "      <td>0</td>\n",
              "      <td>0</td>\n",
              "    </tr>\n",
              "    <tr>\n",
              "      <th>4</th>\n",
              "      <td>saya merasa kesal</td>\n",
              "      <td>0</td>\n",
              "      <td>0</td>\n",
              "      <td>1</td>\n",
              "      <td>0</td>\n",
              "      <td>0</td>\n",
              "    </tr>\n",
              "  </tbody>\n",
              "</table>\n",
              "</div>"
            ],
            "text/plain": [
              "                                                                                                                                    text  ...  ketakutan\n",
              "0                                                                                                              saya tidak merasa terhina  ...          0\n",
              "1  saya bisa berubah dari merasa sangat putus asa menjadi sangat berharap hanya dari berada di sekitar seseorang yang peduli dan terjaga  ...          0\n",
              "2                                                               saya mengambil waktu sebentar untuk memposting saya merasa serakah salah  ...          0\n",
              "3                                               saya pernah merasa nostalgia tentang perapian saya akan tahu bahwa itu masih di properti  ...          0\n",
              "4                                                                                                                      saya merasa kesal  ...          0\n",
              "\n",
              "[5 rows x 6 columns]"
            ]
          },
          "metadata": {
            "tags": []
          },
          "execution_count": 24
        }
      ]
    },
    {
      "cell_type": "code",
      "metadata": {
        "id": "iYmF0V3fvazz"
      },
      "source": [
        "X = df['text'].values\n",
        "y = df[['cinta', 'kegembiraan', 'kemarahan', 'kesedihan', 'ketakutan']].values"
      ],
      "execution_count": 25,
      "outputs": []
    },
    {
      "cell_type": "code",
      "metadata": {
        "id": "vObcepS9wXyQ"
      },
      "source": [
        "X_train, X_test, y_train, y_test = train_test_split(X, y, test_size=0.2)\n",
        "\n",
        "tokenizer = Tokenizer(num_words = 8000, oov_token='<OOV>')\n",
        "tokenizer.fit_on_texts(X_train) \n",
        "train_sequences = tokenizer.texts_to_sequences(X_train)\n",
        "test_sequences = tokenizer.texts_to_sequences(X_test)\n",
        "train_padded = pad_sequences(train_sequences) \n",
        "test_padded = pad_sequences(test_sequences)"
      ],
      "execution_count": 49,
      "outputs": []
    },
    {
      "cell_type": "code",
      "metadata": {
        "id": "yGz1CNu3w5nf"
      },
      "source": [
        "model = tf.keras.Sequential([\n",
        "    tf.keras.layers.Embedding(input_dim = 8000, output_dim=32),\n",
        "    tf.keras.layers.LSTM(64),\n",
        "    tf.keras.layers.Dense(256, activation='relu'),\n",
        "    tf.keras.layers.Dense(128, activation='relu'),\n",
        "    tf.keras.layers.Dense(32, activation='relu'),\n",
        "    tf.keras.layers.Dense(5, activation='softmax')\n",
        "])\n",
        "model.compile(loss='categorical_crossentropy', optimizer='adam', metrics=['accuracy'])"
      ],
      "execution_count": 50,
      "outputs": []
    },
    {
      "cell_type": "code",
      "metadata": {
        "colab": {
          "base_uri": "https://localhost:8080/"
        },
        "id": "O6hH-vPrxb7p",
        "outputId": "f362cd8f-1742-4714-9551-d3fa4bcbb040"
      },
      "source": [
        "model.fit(train_padded, y_train, epochs=12, validation_data=(test_padded, y_test), verbose=1)"
      ],
      "execution_count": 51,
      "outputs": [
        {
          "output_type": "stream",
          "text": [
            "Epoch 1/12\n",
            "381/381 [==============================] - 33s 81ms/step - loss: 1.3584 - accuracy: 0.3783 - val_loss: 1.1975 - val_accuracy: 0.4946\n",
            "Epoch 2/12\n",
            "381/381 [==============================] - 30s 80ms/step - loss: 0.9355 - accuracy: 0.6199 - val_loss: 0.8700 - val_accuracy: 0.6823\n",
            "Epoch 3/12\n",
            "381/381 [==============================] - 30s 80ms/step - loss: 0.6223 - accuracy: 0.7739 - val_loss: 0.7594 - val_accuracy: 0.7257\n",
            "Epoch 4/12\n",
            "381/381 [==============================] - 30s 80ms/step - loss: 0.4526 - accuracy: 0.8429 - val_loss: 0.8501 - val_accuracy: 0.7221\n",
            "Epoch 5/12\n",
            "381/381 [==============================] - 30s 79ms/step - loss: 0.3649 - accuracy: 0.8725 - val_loss: 0.8315 - val_accuracy: 0.7494\n",
            "Epoch 6/12\n",
            "381/381 [==============================] - 31s 81ms/step - loss: 0.2888 - accuracy: 0.9044 - val_loss: 0.9050 - val_accuracy: 0.7428\n",
            "Epoch 7/12\n",
            "381/381 [==============================] - 31s 80ms/step - loss: 0.2352 - accuracy: 0.9219 - val_loss: 0.9532 - val_accuracy: 0.7422\n",
            "Epoch 8/12\n",
            "381/381 [==============================] - 31s 81ms/step - loss: 0.1958 - accuracy: 0.9341 - val_loss: 0.9921 - val_accuracy: 0.7557\n",
            "Epoch 9/12\n",
            "381/381 [==============================] - 31s 80ms/step - loss: 0.1636 - accuracy: 0.9433 - val_loss: 1.0065 - val_accuracy: 0.7488\n",
            "Epoch 10/12\n",
            "381/381 [==============================] - 31s 80ms/step - loss: 0.1417 - accuracy: 0.9528 - val_loss: 1.0668 - val_accuracy: 0.7550\n",
            "Epoch 11/12\n",
            "381/381 [==============================] - 31s 81ms/step - loss: 0.1210 - accuracy: 0.9590 - val_loss: 1.2987 - val_accuracy: 0.7547\n",
            "Epoch 12/12\n",
            "381/381 [==============================] - 31s 80ms/step - loss: 0.1129 - accuracy: 0.9617 - val_loss: 1.2514 - val_accuracy: 0.7527\n"
          ],
          "name": "stdout"
        },
        {
          "output_type": "execute_result",
          "data": {
            "text/plain": [
              "<tensorflow.python.keras.callbacks.History at 0x7f6128dfa950>"
            ]
          },
          "metadata": {
            "tags": []
          },
          "execution_count": 51
        }
      ]
    }
  ]
}
